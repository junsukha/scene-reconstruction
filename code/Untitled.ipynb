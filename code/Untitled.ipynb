{
 "cells": [
  {
   "cell_type": "code",
   "execution_count": 1,
   "metadata": {},
   "outputs": [
    {
     "name": "stdout",
     "output_type": "stream",
     "text": [
      "Loading 7 images for cards sequence...\n",
      "Calculating projection matrices...\n",
      "Getting matches for images 1 and 2 of 7...\n",
      "Filtering with RANSAC...\n",
      "Calculating 3D points for accepted matches...\n",
      "Getting matches for images 2 and 3 of 7...\n",
      "Filtering with RANSAC...\n",
      "Calculating 3D points for accepted matches...\n",
      "Getting matches for images 3 and 4 of 7...\n",
      "Filtering with RANSAC...\n",
      "Calculating 3D points for accepted matches...\n",
      "Getting matches for images 4 and 5 of 7...\n",
      "Filtering with RANSAC...\n",
      "Calculating 3D points for accepted matches...\n",
      "Getting matches for images 5 and 6 of 7...\n",
      "Filtering with RANSAC...\n",
      "Calculating 3D points for accepted matches...\n",
      "Getting matches for images 6 and 7 of 7...\n",
      "Filtering with RANSAC...\n",
      "Calculating 3D points for accepted matches...\n",
      "check reconstruction\n"
     ]
    },
    {
     "name": "stderr",
     "output_type": "stream",
     "text": [
      "C:\\Users\\junsu\\Documents\\Brown\\2022Fall\\Computer-Vision\\hw3\\homework3_cameracalibration-junsukha\\code\\student.py:63: FutureWarning: `rcond` parameter will change to the default of machine precision times ``max(M, N)`` where M and N are the input matrix dimensions.\n",
      "To use the future default and silence this warning we advise to pass `rcond=None`, to keep using the old, explicitly pass `rcond=-1`.\n",
      "  M = np.linalg.lstsq(A, b)[0]\n",
      "C:\\Users\\junsu\\Documents\\Brown\\2022Fall\\Computer-Vision\\hw3\\homework3_cameracalibration-junsukha\\code\\student.py:266: FutureWarning: `rcond` parameter will change to the default of machine precision times ``max(M, N)`` where M and N are the input matrix dimensions.\n",
      "To use the future default and silence this warning we advise to pass `rcond=None`, to keep using the old, explicitly pass `rcond=-1`.\n",
      "  np.linalg.lstsq(A, b)\n",
      "C:\\Users\\junsu\\Documents\\Brown\\2022Fall\\Computer-Vision\\hw3\\homework3_cameracalibration-junsukha\\code\\student.py:268: FutureWarning: `rcond` parameter will change to the default of machine precision times ``max(M, N)`` where M and N are the input matrix dimensions.\n",
      "To use the future default and silence this warning we advise to pass `rcond=None`, to keep using the old, explicitly pass `rcond=-1`.\n",
      "  point3d = np.linalg.lstsq(A, b)[0] #point3d shape is (3,1)\n"
     ]
    }
   ],
   "source": [
    "!python main.py --sequence cards --no-intermediate-vis"
   ]
  }
 ],
 "metadata": {
  "kernelspec": {
   "display_name": "cs1430",
   "language": "python",
   "name": "cs1430"
  },
  "language_info": {
   "codemirror_mode": {
    "name": "ipython",
    "version": 3
   },
   "file_extension": ".py",
   "mimetype": "text/x-python",
   "name": "python",
   "nbconvert_exporter": "python",
   "pygments_lexer": "ipython3",
   "version": "3.9.13"
  }
 },
 "nbformat": 4,
 "nbformat_minor": 4
}
